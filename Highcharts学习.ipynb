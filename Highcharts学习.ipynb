{
 "cells": [
  {
   "cell_type": "markdown",
   "metadata": {
    "collapsed": true
   },
   "source": [
    "# 1、一个简单的例子"
   ]
  },
  {
   "cell_type": "code",
   "execution_count": 9,
   "metadata": {
    "collapsed": true
   },
   "outputs": [],
   "source": [
    "from highcharts import Highchart # import highchart library\n",
    "import matplotlib.pyplot as plt\n",
    "# A chart is the container that your data will be rendered in, it can (obviously) support multiple data series within it.\n",
    "H = Highchart() # setup highchart instance\n",
    "\n",
    "data = list(range(1,20))\n",
    "data2 = list(range(20,1,-1)) # generate some random datasets"
   ]
  },
  {
   "cell_type": "markdown",
   "metadata": {},
   "source": [
    "* 数据的输入要用add_data_set"
   ]
  },
  {
   "cell_type": "code",
   "execution_count": 17,
   "metadata": {
    "collapsed": false
   },
   "outputs": [],
   "source": [
    "H.add_data_set(data2,'line', name='Example Series')\n",
    "\n",
    "#the series option can't be included in the options dictionary. It needs to input by the add_data_set\n",
    "H.add_data_set(data, 'line', \n",
    "    marker={\n",
    "        'states': {\n",
    "            'hover': {\n",
    "                'enabled': True, \n",
    "                'fillColor': 'white', \n",
    "                'lineColor': 'red',\n",
    "                'lineWidth': 2\n",
    "            }\n",
    "        }\n",
    "    },\n",
    "    events={\n",
    "        'click': \"function (event) { alert(this.name + ' clicked\\\\n' + 'Alt: ' + event.altKey + '\\\\n' + \\\n",
    "                 'Control: ' + event.ctrlKey + '\\\\n' + 'Shift: ' + event.shiftKey + '\\\\n');}\"}, \n",
    "    dashStyle='ShortDash'\n",
    ")"
   ]
  },
  {
   "cell_type": "markdown",
   "metadata": {},
   "source": [
    "* 设置Highcharts选项\n",
    "* set_options(option_type, option_dict) "
   ]
  },
  {
   "cell_type": "code",
   "execution_count": 18,
   "metadata": {
    "collapsed": true
   },
   "outputs": [],
   "source": [
    "H.set_options('chart', {'resetZoomButton': {'relativeTo': 'plot', 'position': {'x': 0, 'y': -30}}})\n",
    "H.set_options('xAxis', {'events': {'afterBreaks': 'function(e){return}'}})\n",
    "H.set_options('tooltip', {'formatter': 'default_tooltip'})\n",
    "H.set_options('xAxis', {'events': {'pointBreak': 'function(e){return}'}})\n",
    "H.set_options('chart', {'style': {'fontFamily': 'Lucida Grande, sans-serif', \"fontfontSize\": '12px'}})\n",
    "H.set_options('chart', {'style': {\"fontfontSize\": '22px'}})\n",
    "H.set_options('chart', {'resetZoomButton': {'position': {'x': 10}}})\n",
    "H.set_options('chart', {'resetZoomButton': {'relativeTo': 'chart'}})"
   ]
  },
  {
   "cell_type": "markdown",
   "metadata": {},
   "source": [
    "* 设置Highcharts选项也可以这样（这是推荐的方法）"
   ]
  },
  {
   "cell_type": "code",
   "execution_count": 19,
   "metadata": {
    "collapsed": false,
    "scrolled": true
   },
   "outputs": [
    {
     "data": {
      "text/html": [
       "<iframe style=\"border:0;outline:none;overflow:hidden\" srcdoc=\"&lt;!DOCTYPE html&gt; &lt;html lang=&quot;en&quot;&gt; &lt;head&gt; &lt;meta charset=&quot;utf-8&quot; /&gt; &lt;link href=&quot;https://www.highcharts.com/highslide/highslide.css&quot; rel=&quot;stylesheet&quot; /&gt; &lt;script type=&quot;text/javascript&quot; src=&quot;https://ajax.googleapis.com/ajax/libs/jquery/1.9.1/jquery.min.js&quot;&gt;&lt;/script&gt; &lt;script type=&quot;text/javascript&quot; src=&quot;https://code.highcharts.com/highcharts.js&quot;&gt;&lt;/script&gt; &lt;script type=&quot;text/javascript&quot; src=&quot;https://code.highcharts.com/highcharts-more.js&quot;&gt;&lt;/script&gt; &lt;script type=&quot;text/javascript&quot; src=&quot;https://code.highcharts.com/modules/heatmap.js&quot;&gt;&lt;/script&gt; &lt;script type=&quot;text/javascript&quot; src=&quot;https://code.highcharts.com/modules/exporting.js&quot;&gt;&lt;/script&gt; &lt;/head&gt; &lt;body style=&quot;margin:0;padding:0&quot;&gt; &lt;div id=&quot;container&quot; style=&quot;&quot;&gt;Loading....&lt;/div&gt; &lt;script&gt; $(function(){ Highcharts.setOptions({&quot;global&quot;: {}, &quot;lang&quot;: {}}); var option = {&quot;chart&quot;: {&quot;renderTo&quot;: &quot;container&quot;, &quot;resetZoomButton&quot;: {&quot;relativeTo&quot;: &quot;chart&quot;, &quot;position&quot;: {&quot;x&quot;: 10, &quot;y&quot;: -30}}, &quot;style&quot;: {&quot;fontFamily&quot;: &quot;Lucida Grande, sans-serif&quot;, &quot;fontfontSize&quot;: &quot;22px&quot;}}, &quot;colors&quot;: {}, &quot;credits&quot;: {&quot;enabled&quot;: false}, &quot;drilldown&quot;: {}, &quot;exporting&quot;: {}, &quot;labels&quot;: {}, &quot;legend&quot;: {}, &quot;loading&quot;: {}, &quot;navigation&quot;: {}, &quot;pane&quot;: {}, &quot;plotOptions&quot;: {}, &quot;series&quot;: {}, &quot;subtitle&quot;: {}, &quot;title&quot;: {&quot;text&quot;: &quot;A New Highchart&quot;}, &quot;tooltip&quot;: {&quot;formatter&quot;: function () { return&#x27;&lt;b&gt;&#x27;+ this.series.name + &#x27;&lt;/b&gt;: &#x27; + this.y; }}, &quot;xAxis&quot;: {&quot;events&quot;: {&quot;afterBreaks&quot;: function(e){return}, &quot;pointBreak&quot;: function(e){return}}, &quot;plotBands&quot;: [{&quot;color&quot;: &quot;#FCFFC5&quot;, &quot;from&quot;: 2, &quot;to&quot;: 4}, {&quot;color&quot;: &quot;#FCFFC5&quot;, &quot;from&quot;: 6, &quot;to&quot;: 8}, {&quot;color&quot;: &quot;#FCFFC5&quot;, &quot;from&quot;: 10, &quot;to&quot;: 12}]}, &quot;yAxis&quot;: {}}; var chart = new Highcharts.Chart(option); var data = [{&quot;data&quot;: [20, 19, 18, 17, 16, 15, 14, 13, 12, 11, 10, 9, 8, 7, 6, 5, 4, 3, 2], &quot;type&quot;: &quot;line&quot;, &quot;name&quot;: &quot;Example Series&quot;}, {&quot;data&quot;: [1, 2, 3, 4, 5, 6, 7, 8, 9, 10, 11, 12, 13, 14, 15, 16, 17, 18, 19], &quot;type&quot;: &quot;line&quot;, &quot;marker&quot;: {&quot;states&quot;: {&quot;hover&quot;: {&quot;enabled&quot;: true, &quot;fillColor&quot;: &quot;white&quot;, &quot;lineColor&quot;: &quot;red&quot;, &quot;lineWidth&quot;: 2}}}, &quot;events&quot;: {&quot;click&quot;: function (event) { alert(this.name + &#x27; clicked\\n&#x27; + &#x27;Alt: &#x27; + event.altKey + &#x27;\\n&#x27; + &#x27;Control: &#x27; + event.ctrlKey + &#x27;\\n&#x27; + &#x27;Shift: &#x27; + event.shiftKey + &#x27;\\n&#x27;);}}, &quot;name&quot;: &quot;Series 2&quot;, &quot;dashStyle&quot;: &quot;ShortDash&quot;}]; var dataLen = data.length; for (var ix = 0; ix &lt; dataLen; ix++) { chart.addSeries(data[ix]); } }); &lt;/script&gt; &lt;/body&gt; &lt;/html&gt;\" height=520 width=820></iframe>"
      ],
      "text/plain": [
       "<highcharts.highcharts.highcharts.Highchart at 0x88e8b4fdd8>"
      ]
     },
     "execution_count": 19,
     "metadata": {},
     "output_type": "execute_result"
    }
   ],
   "source": [
    "options = {\n",
    "    'xAxis':{\n",
    "        'plotBands': \n",
    "            [{'color': '#FCFFC5', 'from': 2, 'to': 4}, \n",
    "            {'color': '#FCFFC5', 'from': 6, 'to': 8},\n",
    "            {'color': '#FCFFC5', 'from': 10, 'to': 12}]\n",
    "        }\n",
    "}\n",
    "H.set_dict_options(options) # input option object using set_dict_options method\n",
    "\n",
    "H\n",
    "# show the chart on ipython"
   ]
  },
  {
   "cell_type": "markdown",
   "metadata": {},
   "source": [
    "# 2、github上首页的例子"
   ]
  },
  {
   "cell_type": "code",
   "execution_count": 20,
   "metadata": {
    "collapsed": true
   },
   "outputs": [],
   "source": [
    "chart = Highchart()\n",
    "\n",
    "chart.set_options('chart', {'inverted': True})\n",
    "\n",
    "options = {\n",
    "    'title': {\n",
    "        'text': 'Atmosphere Temperature by Altitude'\n",
    "    },\n",
    "    'subtitle': {\n",
    "        'text': 'According to the Standard Atmosphere Model'\n",
    "    },\n",
    "    'xAxis': {\n",
    "        'reversed': False,\n",
    "        'title': {\n",
    "            'enabled': True,\n",
    "            'text': 'Altitude'\n",
    "        },\n",
    "        'labels': {\n",
    "            'formatter': 'function () {\\\n",
    "                return this.value + \"km\";\\\n",
    "            }'\n",
    "        },\n",
    "        'maxPadding': 0.05,\n",
    "        'showLastLabel': True\n",
    "    },\n",
    "    'yAxis': {\n",
    "        'title': {\n",
    "            'text': 'Temperature'\n",
    "        },\n",
    "        'labels': {\n",
    "            'formatter': \"function () {\\\n",
    "                return this.value + '°';\\\n",
    "            }\"\n",
    "        },\n",
    "        'lineWidth': 2\n",
    "    },\n",
    "    'legend': {\n",
    "        'enabled': False\n",
    "    },\n",
    "    'tooltip': {\n",
    "        'headerFormat': '<b>{series.name}</b><br/>',\n",
    "        'pointFormat': '{point.x} km: {point.y}°C'\n",
    "    }\n",
    "}\n",
    "\n",
    "chart.set_dict_options(options)\n",
    "data =  [[0, 15], [10, -50], [20, -56.5], [30, -46.5], [40, -22.1], \n",
    "[50, -2.5], [60, -27.7], [70, -55.7], [80, -76.5]]\n",
    "chart.add_data_set(data, 'spline', 'Temperature', marker={'enabled': False}) "
   ]
  },
  {
   "cell_type": "code",
   "execution_count": 21,
   "metadata": {
    "collapsed": false,
    "scrolled": true
   },
   "outputs": [
    {
     "data": {
      "text/html": [
       "<iframe style=\"border:0;outline:none;overflow:hidden\" srcdoc=\"&lt;!DOCTYPE html&gt; &lt;html lang=&quot;en&quot;&gt; &lt;head&gt; &lt;meta charset=&quot;utf-8&quot; /&gt; &lt;link href=&quot;https://www.highcharts.com/highslide/highslide.css&quot; rel=&quot;stylesheet&quot; /&gt; &lt;script type=&quot;text/javascript&quot; src=&quot;https://ajax.googleapis.com/ajax/libs/jquery/1.9.1/jquery.min.js&quot;&gt;&lt;/script&gt; &lt;script type=&quot;text/javascript&quot; src=&quot;https://code.highcharts.com/highcharts.js&quot;&gt;&lt;/script&gt; &lt;script type=&quot;text/javascript&quot; src=&quot;https://code.highcharts.com/highcharts-more.js&quot;&gt;&lt;/script&gt; &lt;script type=&quot;text/javascript&quot; src=&quot;https://code.highcharts.com/modules/heatmap.js&quot;&gt;&lt;/script&gt; &lt;script type=&quot;text/javascript&quot; src=&quot;https://code.highcharts.com/modules/exporting.js&quot;&gt;&lt;/script&gt; &lt;/head&gt; &lt;body style=&quot;margin:0;padding:0&quot;&gt; &lt;div id=&quot;container&quot; style=&quot;&quot;&gt;Loading....&lt;/div&gt; &lt;script&gt; $(function(){ Highcharts.setOptions({&quot;global&quot;: {}, &quot;lang&quot;: {}}); var option = {&quot;chart&quot;: {&quot;renderTo&quot;: &quot;container&quot;, &quot;inverted&quot;: true}, &quot;colors&quot;: {}, &quot;credits&quot;: {&quot;enabled&quot;: false}, &quot;drilldown&quot;: {}, &quot;exporting&quot;: {}, &quot;labels&quot;: {}, &quot;legend&quot;: {&quot;enabled&quot;: false}, &quot;loading&quot;: {}, &quot;navigation&quot;: {}, &quot;pane&quot;: {}, &quot;plotOptions&quot;: {}, &quot;series&quot;: {}, &quot;subtitle&quot;: {&quot;text&quot;: &quot;According to the Standard Atmosphere Model&quot;}, &quot;title&quot;: {&quot;text&quot;: &quot;Atmosphere Temperature by Altitude&quot;}, &quot;tooltip&quot;: {&quot;headerFormat&quot;: &quot;&lt;b&gt;{series.name}&lt;/b&gt;&lt;br/&gt;&quot;, &quot;pointFormat&quot;: &quot;{point.x} km: {point.y}\\u00b0C&quot;}, &quot;xAxis&quot;: {&quot;reversed&quot;: false, &quot;title&quot;: {&quot;enabled&quot;: true, &quot;text&quot;: &quot;Altitude&quot;}, &quot;labels&quot;: {&quot;formatter&quot;: function () { return this.value + &quot;km&quot;; }}, &quot;maxPadding&quot;: 0.05, &quot;showLastLabel&quot;: true}, &quot;yAxis&quot;: {&quot;title&quot;: {&quot;text&quot;: &quot;Temperature&quot;}, &quot;labels&quot;: {&quot;formatter&quot;: function () { return this.value + &#x27;°&#x27;; }}, &quot;lineWidth&quot;: 2}}; var chart = new Highcharts.Chart(option); var data = [{&quot;data&quot;: [[0, 15], [10, -50], [20, -56.5], [30, -46.5], [40, -22.1], [50, -2.5], [60, -27.7], [70, -55.7], [80, -76.5]], &quot;type&quot;: &quot;spline&quot;, &quot;marker&quot;: {&quot;enabled&quot;: false}, &quot;name&quot;: &quot;Temperature&quot;}]; var dataLen = data.length; for (var ix = 0; ix &lt; dataLen; ix++) { chart.addSeries(data[ix]); } }); &lt;/script&gt; &lt;/body&gt; &lt;/html&gt;\" height=520 width=820></iframe>"
      ],
      "text/plain": [
       "<highcharts.highcharts.highcharts.Highchart at 0x88e8b537f0>"
      ]
     },
     "execution_count": 21,
     "metadata": {},
     "output_type": "execute_result"
    }
   ],
   "source": [
    "chart"
   ]
  },
  {
   "cell_type": "markdown",
   "metadata": {},
   "source": [
    "# 3、如何将Highcharts官网的例子搬下来\n",
    "* 格式按照官网的，数据使用自己的\n",
    "* 进入官网的demo，随便选取一个，copy他的JS代码如下"
   ]
  },
  {
   "cell_type": "code",
   "execution_count": null,
   "metadata": {
    "collapsed": true
   },
   "outputs": [],
   "source": [
    "Highcharts.chart('container', {\n",
    "\n",
    "    title: {\n",
    "        text: 'Solar Employment Growth by Sector, 2010-2016'\n",
    "    },\n",
    "\n",
    "    subtitle: {\n",
    "        text: 'Source: thesolarfoundation.com'\n",
    "    },\n",
    "\n",
    "    yAxis: {\n",
    "        title: {\n",
    "            text: 'Number of Employees'\n",
    "        }\n",
    "    },\n",
    "    legend: {\n",
    "        layout: 'vertical',\n",
    "        align: 'right',\n",
    "        verticalAlign: 'middle'\n",
    "    },\n",
    "\n",
    "    plotOptions: {\n",
    "        series: {\n",
    "            label: {\n",
    "                connectorAllowed: false\n",
    "            },\n",
    "            pointStart: 2010\n",
    "        }\n",
    "    },\n",
    "\n",
    "    series: [{\n",
    "        name: 'Installation',\n",
    "        data: [43934, 52503, 57177, 69658, 97031, 119931, 137133, 154175]\n",
    "    }, {\n",
    "        name: 'Manufacturing',\n",
    "        data: [24916, 24064, 29742, 29851, 32490, 30282, 38121, 40434]\n",
    "    }, {\n",
    "        name: 'Sales & Distribution',\n",
    "        data: [11744, 17722, 16005, 19771, 20185, 24377, 32147, 39387]\n",
    "    }, {\n",
    "        name: 'Project Development',\n",
    "        data: [null, null, 7988, 12169, 15112, 22452, 34400, 34227]\n",
    "    }, {\n",
    "        name: 'Other',\n",
    "        data: [12908, 5948, 8105, 11248, 8989, 11816, 18274, 18111]\n",
    "    }],\n",
    "\n",
    "    responsive: {\n",
    "        rules: [{\n",
    "            condition: {\n",
    "                maxWidth: 500\n",
    "            },\n",
    "            chartOptions: {\n",
    "                legend: {\n",
    "                    layout: 'horizontal',\n",
    "                    align: 'center',\n",
    "                    verticalAlign: 'bottom'\n",
    "                }\n",
    "            }\n",
    "        }]\n",
    "    }\n",
    "\n",
    "});"
   ]
  },
  {
   "cell_type": "code",
   "execution_count": 20,
   "metadata": {
    "collapsed": false
   },
   "outputs": [],
   "source": [
    "h2 = Highchart()\n",
    "import pandas as pd\n",
    "import numpy as np\n",
    "#设定自己的数据，这里假定用官网的数据（为了保证最终效果一致）\n",
    "data1 = [43934, 52503, 57177, 69658, 97031, 119931, 137133, 154175]\n",
    "data2 = [24916, 24064, 29742, 29851, 32490, 30282, 38121, 40434]\n",
    "data3 = [11744, 17722, 16005, 19771, 20185, 24377, 32147, 39387]\n",
    "data4 = [12908, 5948, 8105, 11248, 8989, 11816, 18274, 18111]\n",
    "data5 = [np.nan, np.nan, 7988, 12169, 15112, 22452, 34400, 34227]\n",
    "# data6 = list(df.america)"
   ]
  },
  {
   "cell_type": "code",
   "execution_count": 21,
   "metadata": {
    "collapsed": false
   },
   "outputs": [],
   "source": [
    "#传入数据\n",
    "h2.add_data_set(data1, name='Installation')\n",
    "h2.add_data_set(data2, name='Manufacturing')\n",
    "h2.add_data_set(data3, name='Sales & Distribution')\n",
    "h2.add_data_set(data4, name='Other')\n",
    "h2.add_data_set(data5, name='Project Development')\n",
    "# h2.add_data_set(data6, name='america')\n"
   ]
  },
  {
   "cell_type": "code",
   "execution_count": 22,
   "metadata": {
    "collapsed": false
   },
   "outputs": [],
   "source": [
    "#设置格式，由于在Python中的格式设置必须为dict类型，所以对官网下载的进行改进\n",
    "options2 = {\n",
    "     'title': {\n",
    "        'text': 'Solar Employment Growth by Sector, 2010-2016'\n",
    "    },\n",
    "\n",
    "    'subtitle': {\n",
    "        'text': 'Source: thesolarfoundation.com'\n",
    "    },\n",
    "\n",
    "    'yAxis': {\n",
    "        'title': {\n",
    "            'text': 'Number of Employees'\n",
    "        }\n",
    "    },\n",
    "    'legend': {\n",
    "        'layout': 'vertical',\n",
    "        'align': 'right',\n",
    "        'verticalAlign': 'middle'\n",
    "    },\n",
    "    'plotOptions': {\n",
    "        'series': {\n",
    "            'label': {\n",
    "                'connectorAllowed': False\n",
    "            },\n",
    "            'pointStart': 2010\n",
    "        }\n",
    "    }\n",
    "    \n",
    "    \n",
    "}"
   ]
  },
  {
   "cell_type": "code",
   "execution_count": 23,
   "metadata": {
    "collapsed": false
   },
   "outputs": [],
   "source": [
    "h2.set_dict_options(options2)"
   ]
  },
  {
   "cell_type": "code",
   "execution_count": 24,
   "metadata": {
    "collapsed": false,
    "scrolled": true
   },
   "outputs": [
    {
     "data": {
      "text/html": [
       "<iframe style=\"border:0;outline:none;overflow:hidden\" srcdoc=\"&lt;!DOCTYPE html&gt; &lt;html lang=&quot;en&quot;&gt; &lt;head&gt; &lt;meta charset=&quot;utf-8&quot; /&gt; &lt;link href=&quot;https://www.highcharts.com/highslide/highslide.css&quot; rel=&quot;stylesheet&quot; /&gt; &lt;script type=&quot;text/javascript&quot; src=&quot;https://ajax.googleapis.com/ajax/libs/jquery/1.9.1/jquery.min.js&quot;&gt;&lt;/script&gt; &lt;script type=&quot;text/javascript&quot; src=&quot;https://code.highcharts.com/highcharts.js&quot;&gt;&lt;/script&gt; &lt;script type=&quot;text/javascript&quot; src=&quot;https://code.highcharts.com/highcharts-more.js&quot;&gt;&lt;/script&gt; &lt;script type=&quot;text/javascript&quot; src=&quot;https://code.highcharts.com/modules/heatmap.js&quot;&gt;&lt;/script&gt; &lt;script type=&quot;text/javascript&quot; src=&quot;https://code.highcharts.com/modules/exporting.js&quot;&gt;&lt;/script&gt; &lt;/head&gt; &lt;body style=&quot;margin:0;padding:0&quot;&gt; &lt;div id=&quot;container&quot; style=&quot;&quot;&gt;Loading....&lt;/div&gt; &lt;script&gt; $(function(){ Highcharts.setOptions({&quot;global&quot;: {}, &quot;lang&quot;: {}}); var option = {&quot;chart&quot;: {&quot;renderTo&quot;: &quot;container&quot;}, &quot;colors&quot;: {}, &quot;credits&quot;: {&quot;enabled&quot;: false}, &quot;drilldown&quot;: {}, &quot;exporting&quot;: {}, &quot;labels&quot;: {}, &quot;legend&quot;: {&quot;layout&quot;: &quot;vertical&quot;, &quot;align&quot;: &quot;right&quot;, &quot;verticalAlign&quot;: &quot;middle&quot;}, &quot;loading&quot;: {}, &quot;navigation&quot;: {}, &quot;pane&quot;: {}, &quot;plotOptions&quot;: {&quot;series&quot;: {&quot;pointStart&quot;: 2010}}, &quot;series&quot;: {}, &quot;subtitle&quot;: {&quot;text&quot;: &quot;Source: thesolarfoundation.com&quot;}, &quot;title&quot;: {&quot;text&quot;: &quot;Solar Employment Growth by Sector, 2010-2016&quot;}, &quot;tooltip&quot;: {}, &quot;xAxis&quot;: {}, &quot;yAxis&quot;: {&quot;title&quot;: {&quot;text&quot;: &quot;Number of Employees&quot;}}}; var chart = new Highcharts.Chart(option); var data = [{&quot;data&quot;: [43934, 52503, 57177, 69658, 97031, 119931, 137133, 154175], &quot;type&quot;: &quot;line&quot;, &quot;name&quot;: &quot;Installation&quot;}, {&quot;data&quot;: [24916, 24064, 29742, 29851, 32490, 30282, 38121, 40434], &quot;type&quot;: &quot;line&quot;, &quot;name&quot;: &quot;Manufacturing&quot;}, {&quot;data&quot;: [11744, 17722, 16005, 19771, 20185, 24377, 32147, 39387], &quot;type&quot;: &quot;line&quot;, &quot;name&quot;: &quot;Sales &amp; Distribution&quot;}, {&quot;data&quot;: [12908, 5948, 8105, 11248, 8989, 11816, 18274, 18111], &quot;type&quot;: &quot;line&quot;, &quot;name&quot;: &quot;Other&quot;}, {&quot;data&quot;: [NaN, NaN, 7988, 12169, 15112, 22452, 34400, 34227], &quot;type&quot;: &quot;line&quot;, &quot;name&quot;: &quot;Project Development&quot;}]; var dataLen = data.length; for (var ix = 0; ix &lt; dataLen; ix++) { chart.addSeries(data[ix]); } }); &lt;/script&gt; &lt;/body&gt; &lt;/html&gt;\" height=520 width=820></iframe>"
      ],
      "text/plain": [
       "<highcharts.highcharts.highcharts.Highchart at 0x1856ef44e0>"
      ]
     },
     "execution_count": 24,
     "metadata": {},
     "output_type": "execute_result"
    }
   ],
   "source": [
    "h2"
   ]
  },
  {
   "cell_type": "code",
   "execution_count": 183,
   "metadata": {
    "collapsed": true
   },
   "outputs": [],
   "source": [
    "h3 = Highchart()"
   ]
  },
  {
   "cell_type": "code",
   "execution_count": 184,
   "metadata": {
    "collapsed": true
   },
   "outputs": [],
   "source": [
    "data6 = list(df.america)\n",
    "data7 = list(df.citizen)"
   ]
  },
  {
   "cell_type": "code",
   "execution_count": 185,
   "metadata": {
    "collapsed": true
   },
   "outputs": [],
   "source": [
    "h3.add_data_set(data6, name='america')\n",
    "h3.add_data_set(data7, name='citizen')"
   ]
  },
  {
   "cell_type": "code",
   "execution_count": 186,
   "metadata": {
    "collapsed": false
   },
   "outputs": [],
   "source": [
    "#设置格式，由于在Python中的格式设置必须为dict类型，所以对官网下载的进行改进\n",
    "options3 = {\n",
    "     'title': {\n",
    "        'text': '就职演说, 1789-2009'\n",
    "    },\n",
    "\n",
    "    'subtitle': {\n",
    "        'text': 'Source: inaugural'\n",
    "    },\n",
    "\n",
    "    'yAxis': {\n",
    "        'title': {\n",
    "            'text': 'Counts'\n",
    "        }\n",
    "    },\n",
    "    'legend': {\n",
    "        'layout': 'vertical',\n",
    "        'align': 'right',\n",
    "        'verticalAlign': 'middle'\n",
    "    },\n",
    "    'plotOptions': {\n",
    "        'series': {\n",
    "            'label': {\n",
    "                'connectorAllowed': False\n",
    "            },\n",
    "            'pointStart': 1789,\n",
    "           'pointInterval': 4\n",
    "        }\n",
    "    }\n",
    "    \n",
    "    \n",
    "}"
   ]
  },
  {
   "cell_type": "code",
   "execution_count": 187,
   "metadata": {
    "collapsed": false
   },
   "outputs": [],
   "source": [
    "h3.set_dict_options(options3)"
   ]
  },
  {
   "cell_type": "code",
   "execution_count": 188,
   "metadata": {
    "collapsed": false
   },
   "outputs": [
    {
     "data": {
      "text/html": [
       "<iframe style=\"border:0;outline:none;overflow:hidden\" srcdoc=\"&lt;!DOCTYPE html&gt; &lt;html lang=&quot;en&quot;&gt; &lt;head&gt; &lt;meta charset=&quot;utf-8&quot; /&gt; &lt;link href=&quot;https://www.highcharts.com/highslide/highslide.css&quot; rel=&quot;stylesheet&quot; /&gt; &lt;script type=&quot;text/javascript&quot; src=&quot;https://ajax.googleapis.com/ajax/libs/jquery/1.9.1/jquery.min.js&quot;&gt;&lt;/script&gt; &lt;script type=&quot;text/javascript&quot; src=&quot;https://code.highcharts.com/highcharts.js&quot;&gt;&lt;/script&gt; &lt;script type=&quot;text/javascript&quot; src=&quot;https://code.highcharts.com/highcharts-more.js&quot;&gt;&lt;/script&gt; &lt;script type=&quot;text/javascript&quot; src=&quot;https://code.highcharts.com/modules/heatmap.js&quot;&gt;&lt;/script&gt; &lt;script type=&quot;text/javascript&quot; src=&quot;https://code.highcharts.com/modules/exporting.js&quot;&gt;&lt;/script&gt; &lt;/head&gt; &lt;body style=&quot;margin:0;padding:0&quot;&gt; &lt;div id=&quot;container&quot; style=&quot;&quot;&gt;Loading....&lt;/div&gt; &lt;script&gt; $(function(){ Highcharts.setOptions({&quot;global&quot;: {}, &quot;lang&quot;: {}}); var option = {&quot;chart&quot;: {&quot;renderTo&quot;: &quot;container&quot;}, &quot;colors&quot;: {}, &quot;credits&quot;: {&quot;enabled&quot;: false}, &quot;drilldown&quot;: {}, &quot;exporting&quot;: {}, &quot;labels&quot;: {}, &quot;legend&quot;: {&quot;layout&quot;: &quot;vertical&quot;, &quot;align&quot;: &quot;right&quot;, &quot;verticalAlign&quot;: &quot;middle&quot;}, &quot;loading&quot;: {}, &quot;navigation&quot;: {}, &quot;pane&quot;: {}, &quot;plotOptions&quot;: {&quot;series&quot;: {&quot;pointStart&quot;: 1789, &quot;pointInterval&quot;: 4}}, &quot;series&quot;: {}, &quot;subtitle&quot;: {&quot;text&quot;: &quot;Source: inaugural&quot;}, &quot;title&quot;: {&quot;text&quot;: &quot;\\u5c31\\u804c\\u6f14\\u8bf4, 1789-2009&quot;}, &quot;tooltip&quot;: {}, &quot;xAxis&quot;: {}, &quot;yAxis&quot;: {&quot;title&quot;: {&quot;text&quot;: &quot;Counts&quot;}}}; var chart = new Highcharts.Chart(option); var data = [{&quot;data&quot;: [2.0, 1.0, 8.0, NaN, 1.0, NaN, 1.0, 1.0, 2.0, NaN, NaN, 2.0, 2.0, 7.0, NaN, 2.0, 2.0, 3.0, 2.0, 1.0, NaN, NaN, 1.0, 2.0, 4.0, 6.0, 9.0, 9.0, 7.0, NaN, 12.0, 4.0, 24.0, 11.0, 12.0, 2.0, 5.0, 12.0, 2.0, 4.0, 6.0, 7.0, 7.0, 10.0, 10.0, 23.0, 5.0, 16.0, 21.0, 11.0, 33.0, 31.0, 20.0, 30.0, 15.0], &quot;type&quot;: &quot;line&quot;, &quot;name&quot;: &quot;america&quot;}, {&quot;data&quot;: [5.0, 1.0, 6.0, 7.0, 10.0, 1.0, 4.0, 14.0, 15.0, 3.0, 2.0, 3.0, 7.0, 38.0, 11.0, 2.0, 4.0, 7.0, 7.0, NaN, 5.0, 3.0, 9.0, 9.0, 13.0, 12.0, 10.0, 10.0, 2.0, 1.0, 6.0, 3.0, 6.0, 5.0, 12.0, 1.0, 2.0, 1.0, 1.0, 1.0, 7.0, NaN, 5.0, 4.0, 1.0, 1.0, NaN, 3.0, 6.0, 3.0, 2.0, 10.0, 11.0, 7.0, 2.0], &quot;type&quot;: &quot;line&quot;, &quot;name&quot;: &quot;citizen&quot;}]; var dataLen = data.length; for (var ix = 0; ix &lt; dataLen; ix++) { chart.addSeries(data[ix]); } }); &lt;/script&gt; &lt;/body&gt; &lt;/html&gt;\" height=520 width=820></iframe>"
      ],
      "text/plain": [
       "<highcharts.highcharts.highcharts.Highchart at 0x1859834c50>"
      ]
     },
     "execution_count": 188,
     "metadata": {},
     "output_type": "execute_result"
    }
   ],
   "source": [
    "h3"
   ]
  },
  {
   "cell_type": "code",
   "execution_count": 3,
   "metadata": {
    "collapsed": true
   },
   "outputs": [],
   "source": [
    "from nltk.corpus import inaugural\n",
    "import nltk"
   ]
  },
  {
   "cell_type": "code",
   "execution_count": 5,
   "metadata": {
    "collapsed": false,
    "scrolled": true
   },
   "outputs": [
    {
     "data": {
      "text/plain": [
       "ConditionalFreqDist(nltk.probability.FreqDist,\n",
       "                    {'america': FreqDist({'1789': 2,\n",
       "                               '1793': 1,\n",
       "                               '1797': 8,\n",
       "                               '1805': 1,\n",
       "                               '1813': 1,\n",
       "                               '1817': 1,\n",
       "                               '1821': 2,\n",
       "                               '1833': 2,\n",
       "                               '1837': 2,\n",
       "                               '1841': 7,\n",
       "                               '1849': 2,\n",
       "                               '1853': 2,\n",
       "                               '1857': 3,\n",
       "                               '1861': 2,\n",
       "                               '1865': 1,\n",
       "                               '1877': 1,\n",
       "                               '1881': 2,\n",
       "                               '1885': 4,\n",
       "                               '1889': 6,\n",
       "                               '1893': 9,\n",
       "                               '1897': 9,\n",
       "                               '1901': 7,\n",
       "                               '1909': 12,\n",
       "                               '1917': 4,\n",
       "                               '1921': 24,\n",
       "                               '1925': 11,\n",
       "                               '1929': 12,\n",
       "                               '1933': 2,\n",
       "                               '1937': 5,\n",
       "                               '1941': 12,\n",
       "                               '1945': 2,\n",
       "                               '1949': 4,\n",
       "                               '1953': 6,\n",
       "                               '1957': 7,\n",
       "                               '1961': 7,\n",
       "                               '1965': 10,\n",
       "                               '1969': 10,\n",
       "                               '1973': 23,\n",
       "                               '1977': 5,\n",
       "                               '1981': 16,\n",
       "                               '1985': 21,\n",
       "                               '1989': 11,\n",
       "                               '1993': 33,\n",
       "                               '1997': 31,\n",
       "                               '2001': 20,\n",
       "                               '2005': 30,\n",
       "                               '2009': 15}),\n",
       "                     'citizen': FreqDist({'1789': 5,\n",
       "                               '1793': 1,\n",
       "                               '1797': 6,\n",
       "                               '1801': 7,\n",
       "                               '1805': 10,\n",
       "                               '1809': 1,\n",
       "                               '1813': 4,\n",
       "                               '1817': 14,\n",
       "                               '1821': 15,\n",
       "                               '1825': 3,\n",
       "                               '1829': 2,\n",
       "                               '1833': 3,\n",
       "                               '1837': 7,\n",
       "                               '1841': 38,\n",
       "                               '1845': 11,\n",
       "                               '1849': 2,\n",
       "                               '1853': 4,\n",
       "                               '1857': 7,\n",
       "                               '1861': 7,\n",
       "                               '1869': 5,\n",
       "                               '1873': 3,\n",
       "                               '1877': 9,\n",
       "                               '1881': 9,\n",
       "                               '1885': 13,\n",
       "                               '1889': 12,\n",
       "                               '1893': 10,\n",
       "                               '1897': 10,\n",
       "                               '1901': 2,\n",
       "                               '1905': 1,\n",
       "                               '1909': 6,\n",
       "                               '1917': 3,\n",
       "                               '1921': 6,\n",
       "                               '1925': 5,\n",
       "                               '1929': 12,\n",
       "                               '1933': 1,\n",
       "                               '1937': 2,\n",
       "                               '1941': 1,\n",
       "                               '1945': 1,\n",
       "                               '1949': 1,\n",
       "                               '1953': 7,\n",
       "                               '1961': 5,\n",
       "                               '1965': 4,\n",
       "                               '1969': 1,\n",
       "                               '1973': 1,\n",
       "                               '1981': 3,\n",
       "                               '1985': 6,\n",
       "                               '1989': 3,\n",
       "                               '1993': 2,\n",
       "                               '1997': 10,\n",
       "                               '2001': 11,\n",
       "                               '2005': 7,\n",
       "                               '2009': 2})})"
      ]
     },
     "execution_count": 5,
     "metadata": {},
     "output_type": "execute_result"
    }
   ],
   "source": [
    "#看词汇 america和 citizen随时间推移的使用情况。 b\n",
    "cfd = nltk.ConditionalFreqDist(\n",
    "    (target, fileid[:4])\n",
    "    for target in ['america', 'citizen']\n",
    "    for fileid in inaugural.fileids()\n",
    "    for w in inaugural.words(fileid)\n",
    "    if w.lower().startswith(target)\n",
    "    )\n",
    "    \n",
    "cfd"
   ]
  },
  {
   "cell_type": "code",
   "execution_count": 6,
   "metadata": {
    "collapsed": true
   },
   "outputs": [],
   "source": [
    "import pandas as pd"
   ]
  },
  {
   "cell_type": "code",
   "execution_count": 71,
   "metadata": {
    "collapsed": false,
    "scrolled": true
   },
   "outputs": [
    {
     "data": {
      "text/html": [
       "<div>\n",
       "<table border=\"1\" class=\"dataframe\">\n",
       "  <thead>\n",
       "    <tr style=\"text-align: right;\">\n",
       "      <th></th>\n",
       "      <th>america</th>\n",
       "      <th>citizen</th>\n",
       "    </tr>\n",
       "  </thead>\n",
       "  <tbody>\n",
       "    <tr>\n",
       "      <th>1789</th>\n",
       "      <td>2.0</td>\n",
       "      <td>5.0</td>\n",
       "    </tr>\n",
       "    <tr>\n",
       "      <th>1793</th>\n",
       "      <td>1.0</td>\n",
       "      <td>1.0</td>\n",
       "    </tr>\n",
       "    <tr>\n",
       "      <th>1797</th>\n",
       "      <td>8.0</td>\n",
       "      <td>6.0</td>\n",
       "    </tr>\n",
       "    <tr>\n",
       "      <th>1801</th>\n",
       "      <td>0.0</td>\n",
       "      <td>7.0</td>\n",
       "    </tr>\n",
       "    <tr>\n",
       "      <th>1805</th>\n",
       "      <td>1.0</td>\n",
       "      <td>10.0</td>\n",
       "    </tr>\n",
       "    <tr>\n",
       "      <th>1809</th>\n",
       "      <td>0.0</td>\n",
       "      <td>1.0</td>\n",
       "    </tr>\n",
       "    <tr>\n",
       "      <th>1813</th>\n",
       "      <td>1.0</td>\n",
       "      <td>4.0</td>\n",
       "    </tr>\n",
       "    <tr>\n",
       "      <th>1817</th>\n",
       "      <td>1.0</td>\n",
       "      <td>14.0</td>\n",
       "    </tr>\n",
       "    <tr>\n",
       "      <th>1821</th>\n",
       "      <td>2.0</td>\n",
       "      <td>15.0</td>\n",
       "    </tr>\n",
       "    <tr>\n",
       "      <th>1825</th>\n",
       "      <td>0.0</td>\n",
       "      <td>3.0</td>\n",
       "    </tr>\n",
       "    <tr>\n",
       "      <th>1829</th>\n",
       "      <td>0.0</td>\n",
       "      <td>2.0</td>\n",
       "    </tr>\n",
       "    <tr>\n",
       "      <th>1833</th>\n",
       "      <td>2.0</td>\n",
       "      <td>3.0</td>\n",
       "    </tr>\n",
       "    <tr>\n",
       "      <th>1837</th>\n",
       "      <td>2.0</td>\n",
       "      <td>7.0</td>\n",
       "    </tr>\n",
       "    <tr>\n",
       "      <th>1841</th>\n",
       "      <td>7.0</td>\n",
       "      <td>38.0</td>\n",
       "    </tr>\n",
       "    <tr>\n",
       "      <th>1845</th>\n",
       "      <td>0.0</td>\n",
       "      <td>11.0</td>\n",
       "    </tr>\n",
       "    <tr>\n",
       "      <th>1849</th>\n",
       "      <td>2.0</td>\n",
       "      <td>2.0</td>\n",
       "    </tr>\n",
       "    <tr>\n",
       "      <th>1853</th>\n",
       "      <td>2.0</td>\n",
       "      <td>4.0</td>\n",
       "    </tr>\n",
       "    <tr>\n",
       "      <th>1857</th>\n",
       "      <td>3.0</td>\n",
       "      <td>7.0</td>\n",
       "    </tr>\n",
       "    <tr>\n",
       "      <th>1861</th>\n",
       "      <td>2.0</td>\n",
       "      <td>7.0</td>\n",
       "    </tr>\n",
       "    <tr>\n",
       "      <th>1865</th>\n",
       "      <td>1.0</td>\n",
       "      <td>0.0</td>\n",
       "    </tr>\n",
       "    <tr>\n",
       "      <th>1869</th>\n",
       "      <td>0.0</td>\n",
       "      <td>5.0</td>\n",
       "    </tr>\n",
       "    <tr>\n",
       "      <th>1873</th>\n",
       "      <td>0.0</td>\n",
       "      <td>3.0</td>\n",
       "    </tr>\n",
       "    <tr>\n",
       "      <th>1877</th>\n",
       "      <td>1.0</td>\n",
       "      <td>9.0</td>\n",
       "    </tr>\n",
       "    <tr>\n",
       "      <th>1881</th>\n",
       "      <td>2.0</td>\n",
       "      <td>9.0</td>\n",
       "    </tr>\n",
       "    <tr>\n",
       "      <th>1885</th>\n",
       "      <td>4.0</td>\n",
       "      <td>13.0</td>\n",
       "    </tr>\n",
       "    <tr>\n",
       "      <th>1889</th>\n",
       "      <td>6.0</td>\n",
       "      <td>12.0</td>\n",
       "    </tr>\n",
       "    <tr>\n",
       "      <th>1893</th>\n",
       "      <td>9.0</td>\n",
       "      <td>10.0</td>\n",
       "    </tr>\n",
       "    <tr>\n",
       "      <th>1897</th>\n",
       "      <td>9.0</td>\n",
       "      <td>10.0</td>\n",
       "    </tr>\n",
       "    <tr>\n",
       "      <th>1901</th>\n",
       "      <td>7.0</td>\n",
       "      <td>2.0</td>\n",
       "    </tr>\n",
       "    <tr>\n",
       "      <th>1905</th>\n",
       "      <td>0.0</td>\n",
       "      <td>1.0</td>\n",
       "    </tr>\n",
       "    <tr>\n",
       "      <th>1909</th>\n",
       "      <td>12.0</td>\n",
       "      <td>6.0</td>\n",
       "    </tr>\n",
       "    <tr>\n",
       "      <th>1917</th>\n",
       "      <td>4.0</td>\n",
       "      <td>3.0</td>\n",
       "    </tr>\n",
       "    <tr>\n",
       "      <th>1921</th>\n",
       "      <td>24.0</td>\n",
       "      <td>6.0</td>\n",
       "    </tr>\n",
       "    <tr>\n",
       "      <th>1925</th>\n",
       "      <td>11.0</td>\n",
       "      <td>5.0</td>\n",
       "    </tr>\n",
       "    <tr>\n",
       "      <th>1929</th>\n",
       "      <td>12.0</td>\n",
       "      <td>12.0</td>\n",
       "    </tr>\n",
       "    <tr>\n",
       "      <th>1933</th>\n",
       "      <td>2.0</td>\n",
       "      <td>1.0</td>\n",
       "    </tr>\n",
       "    <tr>\n",
       "      <th>1937</th>\n",
       "      <td>5.0</td>\n",
       "      <td>2.0</td>\n",
       "    </tr>\n",
       "    <tr>\n",
       "      <th>1941</th>\n",
       "      <td>12.0</td>\n",
       "      <td>1.0</td>\n",
       "    </tr>\n",
       "    <tr>\n",
       "      <th>1945</th>\n",
       "      <td>2.0</td>\n",
       "      <td>1.0</td>\n",
       "    </tr>\n",
       "    <tr>\n",
       "      <th>1949</th>\n",
       "      <td>4.0</td>\n",
       "      <td>1.0</td>\n",
       "    </tr>\n",
       "    <tr>\n",
       "      <th>1953</th>\n",
       "      <td>6.0</td>\n",
       "      <td>7.0</td>\n",
       "    </tr>\n",
       "    <tr>\n",
       "      <th>1957</th>\n",
       "      <td>7.0</td>\n",
       "      <td>0.0</td>\n",
       "    </tr>\n",
       "    <tr>\n",
       "      <th>1961</th>\n",
       "      <td>7.0</td>\n",
       "      <td>5.0</td>\n",
       "    </tr>\n",
       "    <tr>\n",
       "      <th>1965</th>\n",
       "      <td>10.0</td>\n",
       "      <td>4.0</td>\n",
       "    </tr>\n",
       "    <tr>\n",
       "      <th>1969</th>\n",
       "      <td>10.0</td>\n",
       "      <td>1.0</td>\n",
       "    </tr>\n",
       "    <tr>\n",
       "      <th>1973</th>\n",
       "      <td>23.0</td>\n",
       "      <td>1.0</td>\n",
       "    </tr>\n",
       "    <tr>\n",
       "      <th>1977</th>\n",
       "      <td>5.0</td>\n",
       "      <td>0.0</td>\n",
       "    </tr>\n",
       "    <tr>\n",
       "      <th>1981</th>\n",
       "      <td>16.0</td>\n",
       "      <td>3.0</td>\n",
       "    </tr>\n",
       "    <tr>\n",
       "      <th>1985</th>\n",
       "      <td>21.0</td>\n",
       "      <td>6.0</td>\n",
       "    </tr>\n",
       "    <tr>\n",
       "      <th>1989</th>\n",
       "      <td>11.0</td>\n",
       "      <td>3.0</td>\n",
       "    </tr>\n",
       "    <tr>\n",
       "      <th>1993</th>\n",
       "      <td>33.0</td>\n",
       "      <td>2.0</td>\n",
       "    </tr>\n",
       "    <tr>\n",
       "      <th>1997</th>\n",
       "      <td>31.0</td>\n",
       "      <td>10.0</td>\n",
       "    </tr>\n",
       "    <tr>\n",
       "      <th>2001</th>\n",
       "      <td>20.0</td>\n",
       "      <td>11.0</td>\n",
       "    </tr>\n",
       "    <tr>\n",
       "      <th>2005</th>\n",
       "      <td>30.0</td>\n",
       "      <td>7.0</td>\n",
       "    </tr>\n",
       "    <tr>\n",
       "      <th>2009</th>\n",
       "      <td>15.0</td>\n",
       "      <td>2.0</td>\n",
       "    </tr>\n",
       "  </tbody>\n",
       "</table>\n",
       "</div>"
      ],
      "text/plain": [
       "      america  citizen\n",
       "1789      2.0      5.0\n",
       "1793      1.0      1.0\n",
       "1797      8.0      6.0\n",
       "1801      0.0      7.0\n",
       "1805      1.0     10.0\n",
       "1809      0.0      1.0\n",
       "1813      1.0      4.0\n",
       "1817      1.0     14.0\n",
       "1821      2.0     15.0\n",
       "1825      0.0      3.0\n",
       "1829      0.0      2.0\n",
       "1833      2.0      3.0\n",
       "1837      2.0      7.0\n",
       "1841      7.0     38.0\n",
       "1845      0.0     11.0\n",
       "1849      2.0      2.0\n",
       "1853      2.0      4.0\n",
       "1857      3.0      7.0\n",
       "1861      2.0      7.0\n",
       "1865      1.0      0.0\n",
       "1869      0.0      5.0\n",
       "1873      0.0      3.0\n",
       "1877      1.0      9.0\n",
       "1881      2.0      9.0\n",
       "1885      4.0     13.0\n",
       "1889      6.0     12.0\n",
       "1893      9.0     10.0\n",
       "1897      9.0     10.0\n",
       "1901      7.0      2.0\n",
       "1905      0.0      1.0\n",
       "1909     12.0      6.0\n",
       "1917      4.0      3.0\n",
       "1921     24.0      6.0\n",
       "1925     11.0      5.0\n",
       "1929     12.0     12.0\n",
       "1933      2.0      1.0\n",
       "1937      5.0      2.0\n",
       "1941     12.0      1.0\n",
       "1945      2.0      1.0\n",
       "1949      4.0      1.0\n",
       "1953      6.0      7.0\n",
       "1957      7.0      0.0\n",
       "1961      7.0      5.0\n",
       "1965     10.0      4.0\n",
       "1969     10.0      1.0\n",
       "1973     23.0      1.0\n",
       "1977      5.0      0.0\n",
       "1981     16.0      3.0\n",
       "1985     21.0      6.0\n",
       "1989     11.0      3.0\n",
       "1993     33.0      2.0\n",
       "1997     31.0     10.0\n",
       "2001     20.0     11.0\n",
       "2005     30.0      7.0\n",
       "2009     15.0      2.0"
      ]
     },
     "execution_count": 71,
     "metadata": {},
     "output_type": "execute_result"
    }
   ],
   "source": [
    "df = pd.DataFrame(cfd)\n",
    "df.fillna(0)"
   ]
  }
 ],
 "metadata": {
  "kernelspec": {
   "display_name": "Python 3",
   "language": "python",
   "name": "python3"
  },
  "language_info": {
   "codemirror_mode": {
    "name": "ipython",
    "version": 3
   },
   "file_extension": ".py",
   "mimetype": "text/x-python",
   "name": "python",
   "nbconvert_exporter": "python",
   "pygments_lexer": "ipython3",
   "version": "3.6.0"
  }
 },
 "nbformat": 4,
 "nbformat_minor": 2
}
