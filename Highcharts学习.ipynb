{
 "cells": [
  {
   "cell_type": "markdown",
   "metadata": {
    "collapsed": true
   },
   "source": [
    "# 1、一个简单的例子"
   ]
  },
  {
   "cell_type": "code",
   "execution_count": 16,
   "metadata": {
    "collapsed": true
   },
   "outputs": [],
   "source": [
    "from highcharts import Highchart # import highchart library\n",
    "import matplotlib.pyplot as plt\n",
    "# A chart is the container that your data will be rendered in, it can (obviously) support multiple data series within it.\n",
    "H = Highchart() # setup highchart instance\n",
    "\n",
    "data = list(range(1,20))\n",
    "data2 = list(range(20,1,-1)) # generate some random datasets"
   ]
  },
  {
   "cell_type": "markdown",
   "metadata": {},
   "source": [
    "* 数据的输入要用add_data_set"
   ]
  },
  {
   "cell_type": "code",
   "execution_count": 17,
   "metadata": {
    "collapsed": false
   },
   "outputs": [],
   "source": [
    "H.add_data_set(data2,'line', name='Example Series')\n",
    "\n",
    "#the series option can't be included in the options dictionary. It needs to input by the add_data_set\n",
    "H.add_data_set(data, 'line', \n",
    "    marker={\n",
    "        'states': {\n",
    "            'hover': {\n",
    "                'enabled': True, \n",
    "                'fillColor': 'white', \n",
    "                'lineColor': 'red',\n",
    "                'lineWidth': 2\n",
    "            }\n",
    "        }\n",
    "    },\n",
    "    events={\n",
    "        'click': \"function (event) { alert(this.name + ' clicked\\\\n' + 'Alt: ' + event.altKey + '\\\\n' + \\\n",
    "                 'Control: ' + event.ctrlKey + '\\\\n' + 'Shift: ' + event.shiftKey + '\\\\n');}\"}, \n",
    "    dashStyle='ShortDash'\n",
    ")"
   ]
  },
  {
   "cell_type": "markdown",
   "metadata": {},
   "source": [
    "* 设置Highcharts选项\n",
    "* set_options(option_type, option_dict) "
   ]
  },
  {
   "cell_type": "code",
   "execution_count": 18,
   "metadata": {
    "collapsed": true
   },
   "outputs": [],
   "source": [
    "H.set_options('chart', {'resetZoomButton': {'relativeTo': 'plot', 'position': {'x': 0, 'y': -30}}})\n",
    "H.set_options('xAxis', {'events': {'afterBreaks': 'function(e){return}'}})\n",
    "H.set_options('tooltip', {'formatter': 'default_tooltip'})\n",
    "H.set_options('xAxis', {'events': {'pointBreak': 'function(e){return}'}})\n",
    "H.set_options('chart', {'style': {'fontFamily': 'Lucida Grande, sans-serif', \"fontfontSize\": '12px'}})\n",
    "H.set_options('chart', {'style': {\"fontfontSize\": '22px'}})\n",
    "H.set_options('chart', {'resetZoomButton': {'position': {'x': 10}}})\n",
    "H.set_options('chart', {'resetZoomButton': {'relativeTo': 'chart'}})"
   ]
  },
  {
   "cell_type": "markdown",
   "metadata": {},
   "source": [
    "* 设置Highcharts选项也可以这样（这是推荐的方法）"
   ]
  },
  {
   "cell_type": "code",
   "execution_count": 19,
   "metadata": {
    "collapsed": false,
    "scrolled": true
   },
   "outputs": [
    {
     "data": {
      "text/html": [
       "<iframe style=\"border:0;outline:none;overflow:hidden\" srcdoc=\"&lt;!DOCTYPE html&gt; &lt;html lang=&quot;en&quot;&gt; &lt;head&gt; &lt;meta charset=&quot;utf-8&quot; /&gt; &lt;link href=&quot;https://www.highcharts.com/highslide/highslide.css&quot; rel=&quot;stylesheet&quot; /&gt; &lt;script type=&quot;text/javascript&quot; src=&quot;https://ajax.googleapis.com/ajax/libs/jquery/1.9.1/jquery.min.js&quot;&gt;&lt;/script&gt; &lt;script type=&quot;text/javascript&quot; src=&quot;https://code.highcharts.com/highcharts.js&quot;&gt;&lt;/script&gt; &lt;script type=&quot;text/javascript&quot; src=&quot;https://code.highcharts.com/highcharts-more.js&quot;&gt;&lt;/script&gt; &lt;script type=&quot;text/javascript&quot; src=&quot;https://code.highcharts.com/modules/heatmap.js&quot;&gt;&lt;/script&gt; &lt;script type=&quot;text/javascript&quot; src=&quot;https://code.highcharts.com/modules/exporting.js&quot;&gt;&lt;/script&gt; &lt;/head&gt; &lt;body style=&quot;margin:0;padding:0&quot;&gt; &lt;div id=&quot;container&quot; style=&quot;&quot;&gt;Loading....&lt;/div&gt; &lt;script&gt; $(function(){ Highcharts.setOptions({&quot;global&quot;: {}, &quot;lang&quot;: {}}); var option = {&quot;chart&quot;: {&quot;renderTo&quot;: &quot;container&quot;, &quot;resetZoomButton&quot;: {&quot;relativeTo&quot;: &quot;chart&quot;, &quot;position&quot;: {&quot;x&quot;: 10, &quot;y&quot;: -30}}, &quot;style&quot;: {&quot;fontFamily&quot;: &quot;Lucida Grande, sans-serif&quot;, &quot;fontfontSize&quot;: &quot;22px&quot;}}, &quot;colors&quot;: {}, &quot;credits&quot;: {&quot;enabled&quot;: false}, &quot;drilldown&quot;: {}, &quot;exporting&quot;: {}, &quot;labels&quot;: {}, &quot;legend&quot;: {}, &quot;loading&quot;: {}, &quot;navigation&quot;: {}, &quot;pane&quot;: {}, &quot;plotOptions&quot;: {}, &quot;series&quot;: {}, &quot;subtitle&quot;: {}, &quot;title&quot;: {&quot;text&quot;: &quot;A New Highchart&quot;}, &quot;tooltip&quot;: {&quot;formatter&quot;: function () { return&#x27;&lt;b&gt;&#x27;+ this.series.name + &#x27;&lt;/b&gt;: &#x27; + this.y; }}, &quot;xAxis&quot;: {&quot;events&quot;: {&quot;afterBreaks&quot;: function(e){return}, &quot;pointBreak&quot;: function(e){return}}, &quot;plotBands&quot;: [{&quot;color&quot;: &quot;#FCFFC5&quot;, &quot;from&quot;: 2, &quot;to&quot;: 4}, {&quot;color&quot;: &quot;#FCFFC5&quot;, &quot;from&quot;: 6, &quot;to&quot;: 8}, {&quot;color&quot;: &quot;#FCFFC5&quot;, &quot;from&quot;: 10, &quot;to&quot;: 12}]}, &quot;yAxis&quot;: {}}; var chart = new Highcharts.Chart(option); var data = [{&quot;data&quot;: [20, 19, 18, 17, 16, 15, 14, 13, 12, 11, 10, 9, 8, 7, 6, 5, 4, 3, 2], &quot;type&quot;: &quot;line&quot;, &quot;name&quot;: &quot;Example Series&quot;}, {&quot;data&quot;: [1, 2, 3, 4, 5, 6, 7, 8, 9, 10, 11, 12, 13, 14, 15, 16, 17, 18, 19], &quot;type&quot;: &quot;line&quot;, &quot;marker&quot;: {&quot;states&quot;: {&quot;hover&quot;: {&quot;enabled&quot;: true, &quot;fillColor&quot;: &quot;white&quot;, &quot;lineColor&quot;: &quot;red&quot;, &quot;lineWidth&quot;: 2}}}, &quot;events&quot;: {&quot;click&quot;: function (event) { alert(this.name + &#x27; clicked\\n&#x27; + &#x27;Alt: &#x27; + event.altKey + &#x27;\\n&#x27; + &#x27;Control: &#x27; + event.ctrlKey + &#x27;\\n&#x27; + &#x27;Shift: &#x27; + event.shiftKey + &#x27;\\n&#x27;);}}, &quot;name&quot;: &quot;Series 2&quot;, &quot;dashStyle&quot;: &quot;ShortDash&quot;}]; var dataLen = data.length; for (var ix = 0; ix &lt; dataLen; ix++) { chart.addSeries(data[ix]); } }); &lt;/script&gt; &lt;/body&gt; &lt;/html&gt;\" height=520 width=820></iframe>"
      ],
      "text/plain": [
       "<highcharts.highcharts.highcharts.Highchart at 0x88e8b4fdd8>"
      ]
     },
     "execution_count": 19,
     "metadata": {},
     "output_type": "execute_result"
    }
   ],
   "source": [
    "options = {\n",
    "    'xAxis':{\n",
    "        'plotBands': \n",
    "            [{'color': '#FCFFC5', 'from': 2, 'to': 4}, \n",
    "            {'color': '#FCFFC5', 'from': 6, 'to': 8},\n",
    "            {'color': '#FCFFC5', 'from': 10, 'to': 12}]\n",
    "        }\n",
    "}\n",
    "H.set_dict_options(options) # input option object using set_dict_options method\n",
    "\n",
    "H\n",
    "# show the chart on ipython"
   ]
  },
  {
   "cell_type": "markdown",
   "metadata": {},
   "source": [
    "# 2、github上首页的例子"
   ]
  },
  {
   "cell_type": "code",
   "execution_count": 20,
   "metadata": {
    "collapsed": true
   },
   "outputs": [],
   "source": [
    "chart = Highchart()\n",
    "\n",
    "chart.set_options('chart', {'inverted': True})\n",
    "\n",
    "options = {\n",
    "    'title': {\n",
    "        'text': 'Atmosphere Temperature by Altitude'\n",
    "    },\n",
    "    'subtitle': {\n",
    "        'text': 'According to the Standard Atmosphere Model'\n",
    "    },\n",
    "    'xAxis': {\n",
    "        'reversed': False,\n",
    "        'title': {\n",
    "            'enabled': True,\n",
    "            'text': 'Altitude'\n",
    "        },\n",
    "        'labels': {\n",
    "            'formatter': 'function () {\\\n",
    "                return this.value + \"km\";\\\n",
    "            }'\n",
    "        },\n",
    "        'maxPadding': 0.05,\n",
    "        'showLastLabel': True\n",
    "    },\n",
    "    'yAxis': {\n",
    "        'title': {\n",
    "            'text': 'Temperature'\n",
    "        },\n",
    "        'labels': {\n",
    "            'formatter': \"function () {\\\n",
    "                return this.value + '°';\\\n",
    "            }\"\n",
    "        },\n",
    "        'lineWidth': 2\n",
    "    },\n",
    "    'legend': {\n",
    "        'enabled': False\n",
    "    },\n",
    "    'tooltip': {\n",
    "        'headerFormat': '<b>{series.name}</b><br/>',\n",
    "        'pointFormat': '{point.x} km: {point.y}°C'\n",
    "    }\n",
    "}\n",
    "\n",
    "chart.set_dict_options(options)\n",
    "data =  [[0, 15], [10, -50], [20, -56.5], [30, -46.5], [40, -22.1], \n",
    "[50, -2.5], [60, -27.7], [70, -55.7], [80, -76.5]]\n",
    "chart.add_data_set(data, 'spline', 'Temperature', marker={'enabled': False}) "
   ]
  },
  {
   "cell_type": "code",
   "execution_count": 21,
   "metadata": {
    "collapsed": false,
    "scrolled": true
   },
   "outputs": [
    {
     "data": {
      "text/html": [
       "<iframe style=\"border:0;outline:none;overflow:hidden\" srcdoc=\"&lt;!DOCTYPE html&gt; &lt;html lang=&quot;en&quot;&gt; &lt;head&gt; &lt;meta charset=&quot;utf-8&quot; /&gt; &lt;link href=&quot;https://www.highcharts.com/highslide/highslide.css&quot; rel=&quot;stylesheet&quot; /&gt; &lt;script type=&quot;text/javascript&quot; src=&quot;https://ajax.googleapis.com/ajax/libs/jquery/1.9.1/jquery.min.js&quot;&gt;&lt;/script&gt; &lt;script type=&quot;text/javascript&quot; src=&quot;https://code.highcharts.com/highcharts.js&quot;&gt;&lt;/script&gt; &lt;script type=&quot;text/javascript&quot; src=&quot;https://code.highcharts.com/highcharts-more.js&quot;&gt;&lt;/script&gt; &lt;script type=&quot;text/javascript&quot; src=&quot;https://code.highcharts.com/modules/heatmap.js&quot;&gt;&lt;/script&gt; &lt;script type=&quot;text/javascript&quot; src=&quot;https://code.highcharts.com/modules/exporting.js&quot;&gt;&lt;/script&gt; &lt;/head&gt; &lt;body style=&quot;margin:0;padding:0&quot;&gt; &lt;div id=&quot;container&quot; style=&quot;&quot;&gt;Loading....&lt;/div&gt; &lt;script&gt; $(function(){ Highcharts.setOptions({&quot;global&quot;: {}, &quot;lang&quot;: {}}); var option = {&quot;chart&quot;: {&quot;renderTo&quot;: &quot;container&quot;, &quot;inverted&quot;: true}, &quot;colors&quot;: {}, &quot;credits&quot;: {&quot;enabled&quot;: false}, &quot;drilldown&quot;: {}, &quot;exporting&quot;: {}, &quot;labels&quot;: {}, &quot;legend&quot;: {&quot;enabled&quot;: false}, &quot;loading&quot;: {}, &quot;navigation&quot;: {}, &quot;pane&quot;: {}, &quot;plotOptions&quot;: {}, &quot;series&quot;: {}, &quot;subtitle&quot;: {&quot;text&quot;: &quot;According to the Standard Atmosphere Model&quot;}, &quot;title&quot;: {&quot;text&quot;: &quot;Atmosphere Temperature by Altitude&quot;}, &quot;tooltip&quot;: {&quot;headerFormat&quot;: &quot;&lt;b&gt;{series.name}&lt;/b&gt;&lt;br/&gt;&quot;, &quot;pointFormat&quot;: &quot;{point.x} km: {point.y}\\u00b0C&quot;}, &quot;xAxis&quot;: {&quot;reversed&quot;: false, &quot;title&quot;: {&quot;enabled&quot;: true, &quot;text&quot;: &quot;Altitude&quot;}, &quot;labels&quot;: {&quot;formatter&quot;: function () { return this.value + &quot;km&quot;; }}, &quot;maxPadding&quot;: 0.05, &quot;showLastLabel&quot;: true}, &quot;yAxis&quot;: {&quot;title&quot;: {&quot;text&quot;: &quot;Temperature&quot;}, &quot;labels&quot;: {&quot;formatter&quot;: function () { return this.value + &#x27;°&#x27;; }}, &quot;lineWidth&quot;: 2}}; var chart = new Highcharts.Chart(option); var data = [{&quot;data&quot;: [[0, 15], [10, -50], [20, -56.5], [30, -46.5], [40, -22.1], [50, -2.5], [60, -27.7], [70, -55.7], [80, -76.5]], &quot;type&quot;: &quot;spline&quot;, &quot;marker&quot;: {&quot;enabled&quot;: false}, &quot;name&quot;: &quot;Temperature&quot;}]; var dataLen = data.length; for (var ix = 0; ix &lt; dataLen; ix++) { chart.addSeries(data[ix]); } }); &lt;/script&gt; &lt;/body&gt; &lt;/html&gt;\" height=520 width=820></iframe>"
      ],
      "text/plain": [
       "<highcharts.highcharts.highcharts.Highchart at 0x88e8b537f0>"
      ]
     },
     "execution_count": 21,
     "metadata": {},
     "output_type": "execute_result"
    }
   ],
   "source": [
    "chart"
   ]
  },
  {
   "cell_type": "markdown",
   "metadata": {},
   "source": [
    "# 3、如何将Highcharts官网的例子搬下来\n",
    "* 格式按照官网的，数据使用自己的\n",
    "* 进入官网的demo，随便选取一个，copy他的JS代码如下"
   ]
  },
  {
   "cell_type": "code",
   "execution_count": null,
   "metadata": {
    "collapsed": true
   },
   "outputs": [],
   "source": [
    "Highcharts.chart('container', {\n",
    "\n",
    "    title: {\n",
    "        text: 'Solar Employment Growth by Sector, 2010-2016'\n",
    "    },\n",
    "\n",
    "    subtitle: {\n",
    "        text: 'Source: thesolarfoundation.com'\n",
    "    },\n",
    "\n",
    "    yAxis: {\n",
    "        title: {\n",
    "            text: 'Number of Employees'\n",
    "        }\n",
    "    },\n",
    "    legend: {\n",
    "        layout: 'vertical',\n",
    "        align: 'right',\n",
    "        verticalAlign: 'middle'\n",
    "    },\n",
    "\n",
    "    plotOptions: {\n",
    "        series: {\n",
    "            label: {\n",
    "                connectorAllowed: false\n",
    "            },\n",
    "            pointStart: 2010\n",
    "        }\n",
    "    },\n",
    "\n",
    "    series: [{\n",
    "        name: 'Installation',\n",
    "        data: [43934, 52503, 57177, 69658, 97031, 119931, 137133, 154175]\n",
    "    }, {\n",
    "        name: 'Manufacturing',\n",
    "        data: [24916, 24064, 29742, 29851, 32490, 30282, 38121, 40434]\n",
    "    }, {\n",
    "        name: 'Sales & Distribution',\n",
    "        data: [11744, 17722, 16005, 19771, 20185, 24377, 32147, 39387]\n",
    "    }, {\n",
    "        name: 'Project Development',\n",
    "        data: [null, null, 7988, 12169, 15112, 22452, 34400, 34227]\n",
    "    }, {\n",
    "        name: 'Other',\n",
    "        data: [12908, 5948, 8105, 11248, 8989, 11816, 18274, 18111]\n",
    "    }],\n",
    "\n",
    "    responsive: {\n",
    "        rules: [{\n",
    "            condition: {\n",
    "                maxWidth: 500\n",
    "            },\n",
    "            chartOptions: {\n",
    "                legend: {\n",
    "                    layout: 'horizontal',\n",
    "                    align: 'center',\n",
    "                    verticalAlign: 'bottom'\n",
    "                }\n",
    "            }\n",
    "        }]\n",
    "    }\n",
    "\n",
    "});"
   ]
  },
  {
   "cell_type": "code",
   "execution_count": 51,
   "metadata": {
    "collapsed": false
   },
   "outputs": [],
   "source": [
    "h2 = Highchart()\n",
    "import pandas as pd\n",
    "import numpy as np\n",
    "#设定自己的数据，这里假定用官网的数据（为了保证最终效果一致）\n",
    "data1 = [43934, 52503, 57177, 69658, 97031, 119931, 137133, 154175]\n",
    "data2 = [24916, 24064, 29742, 29851, 32490, 30282, 38121, 40434]\n",
    "data3 = [11744, 17722, 16005, 19771, 20185, 24377, 32147, 39387]\n",
    "data4 = [12908, 5948, 8105, 11248, 8989, 11816, 18274, 18111]\n",
    "data5 = [np.nan, np.nan, 7988, 12169, 15112, 22452, 34400, 34227]"
   ]
  },
  {
   "cell_type": "code",
   "execution_count": 52,
   "metadata": {
    "collapsed": false
   },
   "outputs": [],
   "source": [
    "#传入数据\n",
    "h2.add_data_set(data1, name='Installation')\n",
    "h2.add_data_set(data2, name='Manufacturing')\n",
    "h2.add_data_set(data3, name='Sales & Distribution')\n",
    "h2.add_data_set(data4, name='Other')\n",
    "h2.add_data_set(data5, name='Project Development')"
   ]
  },
  {
   "cell_type": "code",
   "execution_count": 56,
   "metadata": {
    "collapsed": false
   },
   "outputs": [],
   "source": [
    "#设置格式，由于在Python中的格式设置必须为dict类型，所以对官网下载的进行改进\n",
    "options2 = {\n",
    "     'title': {\n",
    "        'text': 'Solar Employment Growth by Sector, 2010-2016'\n",
    "    },\n",
    "\n",
    "    'subtitle': {\n",
    "        'text': 'Source: thesolarfoundation.com'\n",
    "    },\n",
    "\n",
    "    'yAxis': {\n",
    "        'title': {\n",
    "            'text': 'Number of Employees'\n",
    "        }\n",
    "    },\n",
    "    'legend': {\n",
    "        'layout': 'vertical',\n",
    "        'align': 'right',\n",
    "        'verticalAlign': 'middle'\n",
    "    },\n",
    "    'plotOptions': {\n",
    "        'series': {\n",
    "            'label': {\n",
    "                'connectorAllowed': False\n",
    "            },\n",
    "            'pointStart': 2010\n",
    "        }\n",
    "    }\n",
    "    \n",
    "    \n",
    "}"
   ]
  },
  {
   "cell_type": "code",
   "execution_count": 57,
   "metadata": {
    "collapsed": false
   },
   "outputs": [],
   "source": [
    "h2.set_dict_options(options2)"
   ]
  },
  {
   "cell_type": "code",
   "execution_count": 58,
   "metadata": {
    "collapsed": false,
    "scrolled": false
   },
   "outputs": [
    {
     "data": {
      "text/html": [
       "<iframe style=\"border:0;outline:none;overflow:hidden\" srcdoc=\"&lt;!DOCTYPE html&gt; &lt;html lang=&quot;en&quot;&gt; &lt;head&gt; &lt;meta charset=&quot;utf-8&quot; /&gt; &lt;link href=&quot;https://www.highcharts.com/highslide/highslide.css&quot; rel=&quot;stylesheet&quot; /&gt; &lt;script type=&quot;text/javascript&quot; src=&quot;https://ajax.googleapis.com/ajax/libs/jquery/1.9.1/jquery.min.js&quot;&gt;&lt;/script&gt; &lt;script type=&quot;text/javascript&quot; src=&quot;https://code.highcharts.com/highcharts.js&quot;&gt;&lt;/script&gt; &lt;script type=&quot;text/javascript&quot; src=&quot;https://code.highcharts.com/highcharts-more.js&quot;&gt;&lt;/script&gt; &lt;script type=&quot;text/javascript&quot; src=&quot;https://code.highcharts.com/modules/heatmap.js&quot;&gt;&lt;/script&gt; &lt;script type=&quot;text/javascript&quot; src=&quot;https://code.highcharts.com/modules/exporting.js&quot;&gt;&lt;/script&gt; &lt;/head&gt; &lt;body style=&quot;margin:0;padding:0&quot;&gt; &lt;div id=&quot;container&quot; style=&quot;&quot;&gt;Loading....&lt;/div&gt; &lt;script&gt; $(function(){ Highcharts.setOptions({&quot;global&quot;: {}, &quot;lang&quot;: {}}); var option = {&quot;chart&quot;: {&quot;renderTo&quot;: &quot;container&quot;}, &quot;colors&quot;: {}, &quot;credits&quot;: {&quot;enabled&quot;: false}, &quot;drilldown&quot;: {}, &quot;exporting&quot;: {}, &quot;labels&quot;: {}, &quot;legend&quot;: {&quot;layout&quot;: &quot;vertical&quot;, &quot;align&quot;: &quot;right&quot;, &quot;verticalAlign&quot;: &quot;middle&quot;}, &quot;loading&quot;: {}, &quot;navigation&quot;: {}, &quot;pane&quot;: {}, &quot;plotOptions&quot;: {&quot;series&quot;: {&quot;pointStart&quot;: 2010}}, &quot;series&quot;: {}, &quot;subtitle&quot;: {&quot;text&quot;: &quot;Source: thesolarfoundation.com&quot;}, &quot;title&quot;: {&quot;text&quot;: &quot;Solar Employment Growth by Sector, 2010-2016&quot;}, &quot;tooltip&quot;: {}, &quot;xAxis&quot;: {}, &quot;yAxis&quot;: {&quot;title&quot;: {&quot;text&quot;: &quot;Number of Employees&quot;}}}; var chart = new Highcharts.Chart(option); var data = [{&quot;data&quot;: [43934, 52503, 57177, 69658, 97031, 119931, 137133, 154175], &quot;type&quot;: &quot;line&quot;, &quot;name&quot;: &quot;Installation&quot;}, {&quot;data&quot;: [24916, 24064, 29742, 29851, 32490, 30282, 38121, 40434], &quot;type&quot;: &quot;line&quot;, &quot;name&quot;: &quot;Manufacturing&quot;}, {&quot;data&quot;: [11744, 17722, 16005, 19771, 20185, 24377, 32147, 39387], &quot;type&quot;: &quot;line&quot;, &quot;name&quot;: &quot;Sales &amp; Distribution&quot;}, {&quot;data&quot;: [12908, 5948, 8105, 11248, 8989, 11816, 18274, 18111], &quot;type&quot;: &quot;line&quot;, &quot;name&quot;: &quot;Other&quot;}, {&quot;data&quot;: [NaN, NaN, 7988, 12169, 15112, 22452, 34400, 34227], &quot;type&quot;: &quot;line&quot;, &quot;name&quot;: &quot;Project Development&quot;}]; var dataLen = data.length; for (var ix = 0; ix &lt; dataLen; ix++) { chart.addSeries(data[ix]); } }); &lt;/script&gt; &lt;/body&gt; &lt;/html&gt;\" height=520 width=820></iframe>"
      ],
      "text/plain": [
       "<highcharts.highcharts.highcharts.Highchart at 0x88efe85160>"
      ]
     },
     "execution_count": 58,
     "metadata": {},
     "output_type": "execute_result"
    }
   ],
   "source": [
    "h2"
   ]
  },
  {
   "cell_type": "code",
   "execution_count": null,
   "metadata": {
    "collapsed": true
   },
   "outputs": [],
   "source": []
  }
 ],
 "metadata": {
  "kernelspec": {
   "display_name": "Python 3",
   "language": "python",
   "name": "python3"
  },
  "language_info": {
   "codemirror_mode": {
    "name": "ipython",
    "version": 3
   },
   "file_extension": ".py",
   "mimetype": "text/x-python",
   "name": "python",
   "nbconvert_exporter": "python",
   "pygments_lexer": "ipython3",
   "version": "3.6.0"
  }
 },
 "nbformat": 4,
 "nbformat_minor": 2
}
